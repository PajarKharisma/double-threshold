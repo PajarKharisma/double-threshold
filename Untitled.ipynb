{
 "cells": [
  {
   "cell_type": "markdown",
   "metadata": {},
   "source": [
    "### Soal :"
   ]
  },
  {
   "cell_type": "markdown",
   "metadata": {},
   "source": [
    "![title](img/soal.jpg)"
   ]
  },
  {
   "cell_type": "code",
   "execution_count": 42,
   "metadata": {},
   "outputs": [],
   "source": [
    "import numpy as np\n",
    "import matplotlib.pyplot as plt"
   ]
  },
  {
   "cell_type": "markdown",
   "metadata": {},
   "source": [
    "### fungsi print 2d array"
   ]
  },
  {
   "cell_type": "code",
   "execution_count": 43,
   "metadata": {},
   "outputs": [],
   "source": [
    "def print_2d(data, title):\n",
    "    print(title, end='\\n\\n')\n",
    "    for i in range(8):\n",
    "        for j in range(8):\n",
    "            print(data[i][j], end='\\t')\n",
    "        print()"
   ]
  },
  {
   "cell_type": "markdown",
   "metadata": {},
   "source": [
    "### Operasi double threshold"
   ]
  },
  {
   "cell_type": "code",
   "execution_count": 44,
   "metadata": {},
   "outputs": [],
   "source": [
    "def double_threshold(data, t1, t2):\n",
    "    result = np.zeros([8, 8], dtype = int) \n",
    "    for i in range(8):\n",
    "        for j in range(8):\n",
    "            if data[i][j] >= t1 and data[i][j] <= t2:\n",
    "                result[i][j] = 255\n",
    "    return result"
   ]
  },
  {
   "cell_type": "markdown",
   "metadata": {},
   "source": [
    "### Fungsi mendapatkan nilai x (nilai pixel) dan y (frekuensi)"
   ]
  },
  {
   "cell_type": "code",
   "execution_count": 59,
   "metadata": {},
   "outputs": [],
   "source": [
    "def get_x_y(data):\n",
    "    data = data.flatten()\n",
    "    x_data = []\n",
    "    y_data = []\n",
    "    for i in data:\n",
    "        x_data.append(i)\n",
    "        num = 0\n",
    "        for j in data:\n",
    "            if i==j:\n",
    "                num += 1\n",
    "        y_data.append(num)\n",
    "\n",
    "    return x_data, y_data"
   ]
  },
  {
   "cell_type": "markdown",
   "metadata": {},
   "source": [
    "### Citra Awal :"
   ]
  },
  {
   "cell_type": "code",
   "execution_count": 60,
   "metadata": {},
   "outputs": [
    {
     "name": "stdout",
     "output_type": "stream",
     "text": [
      "Citra Awal : \n",
      "\n",
      "11\t6\t3\t2\t15\t13\t3\t4\t\n",
      "4\t9\t11\t8\t9\t5\t11\t13\t\n",
      "2\t10\t3\t14\t11\t8\t10\t12\t\n",
      "3\t10\t5\t13\t1\t3\t4\t2\t\n",
      "5\t10\t0\t3\t2\t1\t11\t14\t\n",
      "4\t6\t14\t13\t5\t14\t13\t11\t\n",
      "13\t1\t7\t1\t15\t5\t3\t11\t\n",
      "0\t14\t13\t9\t15\t2\t1\t6\t\n"
     ]
    }
   ],
   "source": [
    "data = np.array([\n",
    "    [11,6,3,2,15,13,3,4],\n",
    "    [4,9,11,8,9,5,11,13],\n",
    "    [2,10,3,14,11,8,10,12],\n",
    "    [3,10,5,13,1,3,4,2],\n",
    "    [5,10,0,3,2,1,11,14],\n",
    "    [4,6,14,13,5,14,13,11],\n",
    "    [13,1,7,1,15,5,3,11],\n",
    "    [0,14,13,9,15,2,1,6]\n",
    "])\n",
    "\n",
    "print_2d(data, 'Citra Awal : ')"
   ]
  },
  {
   "cell_type": "markdown",
   "metadata": {},
   "source": [
    "### Citra hasil operasi double threshold"
   ]
  },
  {
   "cell_type": "code",
   "execution_count": 61,
   "metadata": {},
   "outputs": [
    {
     "name": "stdout",
     "output_type": "stream",
     "text": [
      "Citra hasil operasi double threshold : \n",
      "\n",
      "255\t255\t0\t0\t0\t0\t0\t255\t\n",
      "255\t255\t255\t255\t255\t255\t255\t0\t\n",
      "0\t255\t0\t0\t255\t255\t255\t0\t\n",
      "0\t255\t255\t0\t0\t0\t255\t0\t\n",
      "255\t255\t0\t0\t0\t0\t255\t0\t\n",
      "255\t255\t0\t0\t255\t0\t0\t255\t\n",
      "0\t0\t255\t0\t0\t255\t0\t255\t\n",
      "0\t0\t0\t255\t0\t0\t0\t255\t\n"
     ]
    }
   ],
   "source": [
    "t1 = 4\n",
    "t2 = 11\n",
    "result = double_threshold(data, t1, t2)\n",
    "print_2d(result, 'Citra hasil operasi double threshold : ')"
   ]
  },
  {
   "cell_type": "markdown",
   "metadata": {},
   "source": [
    "### Histogram citra awal"
   ]
  },
  {
   "cell_type": "code",
   "execution_count": 62,
   "metadata": {},
   "outputs": [
    {
     "data": {
      "image/png": "[encoded data removed]",
      "text/plain": [
       "<Figure size 432x288 with 1 Axes>"
      ]
     },
     "metadata": {
      "needs_background": "light"
     },
     "output_type": "display_data"
    }
   ],
   "source": [
    "x,y = get_x_y(data)\n",
    "plt.bar(x,y) \n",
    "plt.show() "
   ]
  },
  {
   "cell_type": "markdown",
   "metadata": {},
   "source": [
    "### Histogram citra hasil"
   ]
  },
  {
   "cell_type": "code",
   "execution_count": 63,
   "metadata": {},
   "outputs": [
    {
     "data": {
      "image/png": "[encoded data removed]",
      "text/plain": [
       "<Figure size 432x288 with 1 Axes>"
      ]
     },
     "metadata": {
      "needs_background": "light"
     },
     "output_type": "display_data"
    }
   ],
   "source": [
    "x,y = get_x_y(result)\n",
    "plt.bar(x,y) \n",
    "plt.show() "
   ]
  }
 ],
 "metadata": {
  "kernelspec": {
   "display_name": "Python 3.7.4 64-bit",
   "language": "python",
   "name": "python37464biteb93521d834e45aeaba8e45a84cf6735"
  },
  "language_info": {
   "codemirror_mode": {
    "name": "ipython",
    "version": 3
   },
   "file_extension": ".py",
   "mimetype": "text/x-python",
   "name": "python",
   "nbconvert_exporter": "python",
   "pygments_lexer": "ipython3",
   "version": "3.7.4"
  }
 },
 "nbformat": 4,
 "nbformat_minor": 2
}
